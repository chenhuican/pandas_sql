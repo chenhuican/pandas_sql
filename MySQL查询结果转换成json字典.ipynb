{
 "cells": [
  {
   "cell_type": "code",
   "execution_count": 1,
   "metadata": {},
   "outputs": [],
   "source": [
    "import pymysql\n",
    "from pprint import pprint\n",
    "DB_HOST    = '10.76.47.116'\n",
    "DB_USER    = 'letl'\n",
    "DB_PASS    = 'gstdata@2016'\n",
    "DB_NAME    = 'DbCenter'\n",
    "db = pymysql.connect(host=DB_HOST,user=DB_USER,passwd=DB_PASS,db=DB_NAME,port=3306,charset=\"utf8\")\n",
    "cursor = db.cursor()\n",
    "sqls = '''SELECT   A.Shop_Id,A.Reck_Date,A.Reg_Num,A.City_Id,A.Total_Money  FROM Rep_ShopIncomeMoney_Day A limit 5'''\n",
    "res = cursor.execute(sqls)"
   ]
  },
  {
   "cell_type": "code",
   "execution_count": 2,
   "metadata": {},
   "outputs": [],
   "source": [
    "rows = cursor.fetchall()"
   ]
  },
  {
   "cell_type": "code",
   "execution_count": 3,
   "metadata": {},
   "outputs": [
    {
     "name": "stdout",
     "output_type": "stream",
     "text": [
      "((251, datetime.date(2016, 12, 1), 191, 20, Decimal('114417.52')),\n",
      " (251, datetime.date(2016, 12, 2), 135, 20, Decimal('42110.28')),\n",
      " (251, datetime.date(2016, 12, 3), 256, 20, Decimal('116858.84')),\n",
      " (251, datetime.date(2016, 12, 4), 200, 20, Decimal('91485.30')),\n",
      " (251, datetime.date(2016, 12, 5), 97, 20, Decimal('35142.80')))\n"
     ]
    }
   ],
   "source": [
    "pprint(rows)"
   ]
  },
  {
   "cell_type": "code",
   "execution_count": 18,
   "metadata": {},
   "outputs": [
    {
     "name": "stdout",
     "output_type": "stream",
     "text": [
      "None\n",
      "None\n",
      "None\n",
      "None\n",
      "None\n",
      "None\n",
      "None\n",
      "None\n",
      "None\n",
      "None\n",
      "None\n",
      "None\n",
      "None\n",
      "None\n",
      "None\n",
      "None\n",
      "None\n",
      "None\n",
      "None\n",
      "None\n",
      "None\n",
      "None\n",
      "None\n",
      "None\n",
      "None\n"
     ]
    }
   ],
   "source": [
    "# 将MySQL默认查询返回的元组，转换成字典形式，还有第二个方法就是 cursor = db.cursor(cursorclass = MySQLdb.cursors.DictCursor) 查询返回字典\n",
    "b_list =[]\n",
    "for row  in rows:\n",
    "    a_list =[]\n",
    "    for idx,col in enumerate(cursor.description):\n",
    "        a_list.append((col[0],row[idx]))\n",
    "    b_list.append(dict(a_list))"
   ]
  },
  {
   "cell_type": "code",
   "execution_count": 10,
   "metadata": {},
   "outputs": [
    {
     "name": "stdout",
     "output_type": "stream",
     "text": [
      "[('Shop_Id', 251),\n",
      " ('Reck_Date', datetime.date(2016, 12, 5)),\n",
      " ('Reg_Num', 97),\n",
      " ('City_Id', 20),\n",
      " ('Total_Money', Decimal('35142.80'))]\n"
     ]
    }
   ],
   "source": [
    "pprint(a_list)"
   ]
  },
  {
   "cell_type": "code",
   "execution_count": 19,
   "metadata": {},
   "outputs": [
    {
     "name": "stdout",
     "output_type": "stream",
     "text": [
      "{'City_Id': 20,\n",
      " 'Reck_Date': datetime.date(2016, 12, 5),\n",
      " 'Reg_Num': 97,\n",
      " 'Shop_Id': 251,\n",
      " 'Total_Money': Decimal('35142.80')}\n"
     ]
    }
   ],
   "source": [
    "pprint(dict(a_list))"
   ]
  },
  {
   "cell_type": "code",
   "execution_count": 20,
   "metadata": {},
   "outputs": [
    {
     "name": "stdout",
     "output_type": "stream",
     "text": [
      "[{'City_Id': 20,\n",
      "  'Reck_Date': datetime.date(2016, 12, 1),\n",
      "  'Reg_Num': 191,\n",
      "  'Shop_Id': 251,\n",
      "  'Total_Money': Decimal('114417.52')},\n",
      " {'City_Id': 20,\n",
      "  'Reck_Date': datetime.date(2016, 12, 2),\n",
      "  'Reg_Num': 135,\n",
      "  'Shop_Id': 251,\n",
      "  'Total_Money': Decimal('42110.28')},\n",
      " {'City_Id': 20,\n",
      "  'Reck_Date': datetime.date(2016, 12, 3),\n",
      "  'Reg_Num': 256,\n",
      "  'Shop_Id': 251,\n",
      "  'Total_Money': Decimal('116858.84')},\n",
      " {'City_Id': 20,\n",
      "  'Reck_Date': datetime.date(2016, 12, 4),\n",
      "  'Reg_Num': 200,\n",
      "  'Shop_Id': 251,\n",
      "  'Total_Money': Decimal('91485.30')},\n",
      " {'City_Id': 20,\n",
      "  'Reck_Date': datetime.date(2016, 12, 5),\n",
      "  'Reg_Num': 97,\n",
      "  'Shop_Id': 251,\n",
      "  'Total_Money': Decimal('35142.80')}]\n"
     ]
    }
   ],
   "source": [
    "pprint(b_list)"
   ]
  },
  {
   "cell_type": "code",
   "execution_count": 20,
   "metadata": {},
   "outputs": [],
   "source": [
    "#方法二：\n",
    "def dict_factory(cursor, row):\n",
    "    return dict((col[0], row[idx])  for idx, col in enumerate(cursor.description))\n",
    "list_a = []\n",
    "for v in rows:\n",
    "    dict_a = dict_factory(cursor,v)\n",
    "    list_a.append(dict_a)"
   ]
  },
  {
   "cell_type": "code",
   "execution_count": 21,
   "metadata": {},
   "outputs": [
    {
     "name": "stdout",
     "output_type": "stream",
     "text": [
      "[{'Shop_Id': 251, 'Reck_Date': datetime.date(2016, 12, 1), 'Reg_Num': 191, 'City_Id': 20, 'Total_Money': Decimal('114417.52')}, {'Shop_Id': 251, 'Reck_Date': datetime.date(2016, 12, 2), 'Reg_Num': 135, 'City_Id': 20, 'Total_Money': Decimal('42110.28')}, {'Shop_Id': 251, 'Reck_Date': datetime.date(2016, 12, 3), 'Reg_Num': 256, 'City_Id': 20, 'Total_Money': Decimal('116858.84')}, {'Shop_Id': 251, 'Reck_Date': datetime.date(2016, 12, 4), 'Reg_Num': 200, 'City_Id': 20, 'Total_Money': Decimal('91485.30')}, {'Shop_Id': 251, 'Reck_Date': datetime.date(2016, 12, 5), 'Reg_Num': 97, 'City_Id': 20, 'Total_Money': Decimal('35142.80')}]\n"
     ]
    }
   ],
   "source": [
    "print(list_a)"
   ]
  },
  {
   "cell_type": "code",
   "execution_count": null,
   "metadata": {},
   "outputs": [],
   "source": []
  },
  {
   "cell_type": "code",
   "execution_count": null,
   "metadata": {},
   "outputs": [],
   "source": []
  }
 ],
 "metadata": {
  "kernelspec": {
   "display_name": "Python 3",
   "language": "python",
   "name": "python3"
  },
  "language_info": {
   "codemirror_mode": {
    "name": "ipython",
    "version": 3
   },
   "file_extension": ".py",
   "mimetype": "text/x-python",
   "name": "python",
   "nbconvert_exporter": "python",
   "pygments_lexer": "ipython3",
   "version": "3.6.2"
  }
 },
 "nbformat": 4,
 "nbformat_minor": 2
}
