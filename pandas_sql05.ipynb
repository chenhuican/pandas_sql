{
 "cells": [
  {
   "cell_type": "code",
   "execution_count": 41,
   "metadata": {},
   "outputs": [],
   "source": [
    "import pandas as pd\n",
    "import numpy as  np\n",
    "'''\n",
    "Pandas是一个开源的Python数据分析库。Pandas把结构化数据分为了三类：\n",
    "Series，1维序列，可视作为没有column名的、只有一个column的DataFrame；\n",
    "DataFrame，同Spark SQL中的DataFrame一样，其概念来自于R语言，为多column并schema化的2维结构化数据，可视作为Series的容器（container）；\n",
    "Panel，为3维的结构化数据，可视作为DataFrame的容器；\n",
    "DataFrame较为常见，因此本文主要讨论内容将为DataFrame。DataFrame的生成可通过读取纯文本、Json等数据来生成，亦可以通过Python对象来生成：\n",
    "'''\n",
    "df = pd.DataFrame({'total_bill': [16.99, 10.34, 23.68, 23.68, 24.59],\n",
    "                   'tip': [1.01, 1.66, 3.50, 3.31, 3.61],\n",
    "                   'sex': ['Female', 'Male', 'Male', 'Male', 'Female']})"
   ]
  },
  {
   "cell_type": "code",
   "execution_count": 3,
   "metadata": {},
   "outputs": [
    {
     "data": {
      "text/plain": [
       "array([['Female', 1.01, 16.99],\n",
       "       ['Male', 1.66, 10.34],\n",
       "       ['Male', 3.5, 23.68],\n",
       "       ['Male', 3.31, 23.68],\n",
       "       ['Female', 3.61, 24.59]], dtype=object)"
      ]
     },
     "execution_count": 3,
     "metadata": {},
     "output_type": "execute_result"
    }
   ],
   "source": [
    "df.values"
   ]
  },
  {
   "cell_type": "code",
   "execution_count": 11,
   "metadata": {},
   "outputs": [
    {
     "data": {
      "text/html": [
       "<div>\n",
       "<style>\n",
       "    .dataframe thead tr:only-child th {\n",
       "        text-align: right;\n",
       "    }\n",
       "\n",
       "    .dataframe thead th {\n",
       "        text-align: left;\n",
       "    }\n",
       "\n",
       "    .dataframe tbody tr th {\n",
       "        vertical-align: top;\n",
       "    }\n",
       "</style>\n",
       "<table border=\"1\" class=\"dataframe\">\n",
       "  <thead>\n",
       "    <tr style=\"text-align: right;\">\n",
       "      <th></th>\n",
       "      <th>sex</th>\n",
       "      <th>tip</th>\n",
       "      <th>total_bill</th>\n",
       "    </tr>\n",
       "  </thead>\n",
       "  <tbody>\n",
       "    <tr>\n",
       "      <th>0</th>\n",
       "      <td>Female</td>\n",
       "      <td>1.01</td>\n",
       "      <td>16.99</td>\n",
       "    </tr>\n",
       "    <tr>\n",
       "      <th>1</th>\n",
       "      <td>Male</td>\n",
       "      <td>1.66</td>\n",
       "      <td>10.34</td>\n",
       "    </tr>\n",
       "    <tr>\n",
       "      <th>2</th>\n",
       "      <td>Male</td>\n",
       "      <td>3.50</td>\n",
       "      <td>23.68</td>\n",
       "    </tr>\n",
       "    <tr>\n",
       "      <th>3</th>\n",
       "      <td>Male</td>\n",
       "      <td>3.31</td>\n",
       "      <td>23.68</td>\n",
       "    </tr>\n",
       "    <tr>\n",
       "      <th>4</th>\n",
       "      <td>Female</td>\n",
       "      <td>3.61</td>\n",
       "      <td>24.59</td>\n",
       "    </tr>\n",
       "  </tbody>\n",
       "</table>\n",
       "</div>"
      ],
      "text/plain": [
       "      sex   tip  total_bill\n",
       "0  Female  1.01       16.99\n",
       "1    Male  1.66       10.34\n",
       "2    Male  3.50       23.68\n",
       "3    Male  3.31       23.68\n",
       "4  Female  3.61       24.59"
      ]
     },
     "execution_count": 11,
     "metadata": {},
     "output_type": "execute_result"
    }
   ],
   "source": [
    "df"
   ]
  },
  {
   "cell_type": "code",
   "execution_count": 5,
   "metadata": {},
   "outputs": [
    {
     "data": {
      "text/plain": [
       "RangeIndex(start=0, stop=5, step=1)"
      ]
     },
     "execution_count": 5,
     "metadata": {},
     "output_type": "execute_result"
    }
   ],
   "source": [
    "df.index"
   ]
  },
  {
   "cell_type": "code",
   "execution_count": 6,
   "metadata": {},
   "outputs": [
    {
     "data": {
      "text/plain": [
       "Index(['sex', 'tip', 'total_bill'], dtype='object')"
      ]
     },
     "execution_count": 6,
     "metadata": {},
     "output_type": "execute_result"
    }
   ],
   "source": [
    "df.columns"
   ]
  },
  {
   "cell_type": "code",
   "execution_count": 7,
   "metadata": {},
   "outputs": [
    {
     "data": {
      "text/plain": [
       "(5, 3)"
      ]
     },
     "execution_count": 7,
     "metadata": {},
     "output_type": "execute_result"
    }
   ],
   "source": [
    "df.shape"
   ]
  },
  {
   "cell_type": "code",
   "execution_count": 8,
   "metadata": {},
   "outputs": [
    {
     "name": "stdout",
     "output_type": "stream",
     "text": [
      "   total_bill   tip\n",
      "1       10.34  1.66\n",
      "2       23.68  3.50\n",
      "3       23.68  3.31\n"
     ]
    }
   ],
   "source": [
    "print(df.loc[1:3,['total_bill','tip']])"
   ]
  },
  {
   "cell_type": "code",
   "execution_count": 9,
   "metadata": {},
   "outputs": [
    {
     "name": "stdout",
     "output_type": "stream",
     "text": [
      "    tip  total_bill\n",
      "1  1.66       10.34\n",
      "2  3.50       23.68\n",
      "3  3.31       23.68\n"
     ]
    }
   ],
   "source": [
    "print(df.loc[1:3,'tip':'total_bill'])"
   ]
  },
  {
   "cell_type": "code",
   "execution_count": 10,
   "metadata": {},
   "outputs": [
    {
     "name": "stdout",
     "output_type": "stream",
     "text": [
      "    tip  total_bill\n",
      "1  1.66       10.34\n",
      "2  3.50       23.68\n"
     ]
    }
   ],
   "source": [
    "print(df.iloc[1:3,[1,2]])"
   ]
  },
  {
   "cell_type": "code",
   "execution_count": 12,
   "metadata": {},
   "outputs": [
    {
     "name": "stdout",
     "output_type": "stream",
     "text": [
      "3.31\n"
     ]
    }
   ],
   "source": [
    "print(df.at[3,'tip'])"
   ]
  },
  {
   "cell_type": "code",
   "execution_count": 13,
   "metadata": {},
   "outputs": [
    {
     "name": "stdout",
     "output_type": "stream",
     "text": [
      "    sex   tip  total_bill\n",
      "1  Male  1.66       10.34\n",
      "2  Male  3.50       23.68\n"
     ]
    }
   ],
   "source": [
    "print(df[1:3])"
   ]
  },
  {
   "cell_type": "code",
   "execution_count": 14,
   "metadata": {},
   "outputs": [
    {
     "name": "stdout",
     "output_type": "stream",
     "text": [
      "   total_bill   tip\n",
      "0       16.99  1.01\n",
      "1       10.34  1.66\n",
      "2       23.68  3.50\n",
      "3       23.68  3.31\n",
      "4       24.59  3.61\n"
     ]
    }
   ],
   "source": [
    "print(df[['total_bill','tip']])"
   ]
  },
  {
   "cell_type": "code",
   "execution_count": 15,
   "metadata": {},
   "outputs": [
    {
     "name": "stdout",
     "output_type": "stream",
     "text": [
      "      sex   tip  total_bill\n",
      "0  Female  1.01       16.99\n",
      "4  Female  3.61       24.59\n"
     ]
    }
   ],
   "source": [
    "print(df[df['sex']=='Female'])"
   ]
  },
  {
   "cell_type": "code",
   "execution_count": 16,
   "metadata": {},
   "outputs": [
    {
     "name": "stdout",
     "output_type": "stream",
     "text": [
      "      sex   tip  total_bill\n",
      "2    Male  3.50       23.68\n",
      "3    Male  3.31       23.68\n",
      "4  Female  3.61       24.59\n"
     ]
    }
   ],
   "source": [
    "#Pandas实现where filter，较为常用的办法为df[df[colunm] boolean expr]，比如：\n",
    "print(df[df['total_bill']>20])"
   ]
  },
  {
   "cell_type": "code",
   "execution_count": 17,
   "metadata": {},
   "outputs": [
    {
     "name": "stdout",
     "output_type": "stream",
     "text": [
      "      sex   tip  total_bill\n",
      "2    Male  3.50       23.68\n",
      "3    Male  3.31       23.68\n",
      "4  Female  3.61       24.59\n"
     ]
    }
   ],
   "source": [
    "print(df.query('total_bill>20'))"
   ]
  },
  {
   "cell_type": "code",
   "execution_count": 18,
   "metadata": {},
   "outputs": [
    {
     "name": "stdout",
     "output_type": "stream",
     "text": [
      "      sex   tip  total_bill\n",
      "4  Female  3.61       24.59\n"
     ]
    }
   ],
   "source": [
    "#在where子句中常常会搭配and, or, in, not关键词，Pandas中也有对应的实现：\n",
    "#and\n",
    "print(df[(df['sex']=='Female')&(df['total_bill']>20)])"
   ]
  },
  {
   "cell_type": "code",
   "execution_count": 19,
   "metadata": {},
   "outputs": [
    {
     "name": "stdout",
     "output_type": "stream",
     "text": [
      "      sex   tip  total_bill\n",
      "0  Female  1.01       16.99\n",
      "2    Male  3.50       23.68\n",
      "3    Male  3.31       23.68\n",
      "4  Female  3.61       24.59\n"
     ]
    }
   ],
   "source": [
    "#or\n",
    "print(df[(df['sex']=='Female') | (df['total_bill']>20)])"
   ]
  },
  {
   "cell_type": "code",
   "execution_count": 20,
   "metadata": {},
   "outputs": [
    {
     "name": "stdout",
     "output_type": "stream",
     "text": [
      "      sex   tip  total_bill\n",
      "2    Male  3.50       23.68\n",
      "3    Male  3.31       23.68\n",
      "4  Female  3.61       24.59\n"
     ]
    }
   ],
   "source": [
    "#in\n",
    "print(df[df['total_bill'].isin([21.01, 23.68, 24.59])])"
   ]
  },
  {
   "cell_type": "code",
   "execution_count": 26,
   "metadata": {},
   "outputs": [
    {
     "name": "stdout",
     "output_type": "stream",
     "text": [
      "Empty DataFrame\n",
      "Columns: [sex, tip, total_bill]\n",
      "Index: []\n"
     ]
    }
   ],
   "source": [
    "#string function\n",
    "print(df[(df['sex'].str.contains('Male\\d+$'))])"
   ]
  },
  {
   "cell_type": "code",
   "execution_count": 32,
   "metadata": {},
   "outputs": [],
   "source": [
    "#对where条件筛选后只有一行的dataframe取其中某一列的值，其两种实现方式如下：\n",
    "total = df.loc[df['tip']==1.66,['sex','tip','total_bill']].values[0]"
   ]
  },
  {
   "cell_type": "code",
   "execution_count": 33,
   "metadata": {},
   "outputs": [
    {
     "name": "stdout",
     "output_type": "stream",
     "text": [
      "['Male' 1.66 10.34]\n"
     ]
    }
   ],
   "source": [
    "print(total)"
   ]
  },
  {
   "cell_type": "code",
   "execution_count": 37,
   "metadata": {},
   "outputs": [],
   "source": [
    "#只能取某一列的值，上面的方法可以取多列的值\n",
    "total = df.get_value(df.loc[df['tip'] == 1.66].index.values[0], 'total_bill')"
   ]
  },
  {
   "cell_type": "code",
   "execution_count": 38,
   "metadata": {},
   "outputs": [
    {
     "data": {
      "text/plain": [
       "10.34"
      ]
     },
     "execution_count": 38,
     "metadata": {},
     "output_type": "execute_result"
    }
   ],
   "source": [
    "total"
   ]
  },
  {
   "cell_type": "code",
   "execution_count": 39,
   "metadata": {},
   "outputs": [],
   "source": [
    "#drop_duplicates根据某列对dataframe进行去重：\n",
    "'''\n",
    "包含参数：\n",
    "\n",
    "subset，为选定的列做distinct，默认为所有列；\n",
    "keep，值选项{'first', 'last', False}，保留重复元素中的第一个、最后一个，或全部删除；\n",
    "inplace ，默认为False，返回一个新的dataframe；若为True，则返回去重后的原dataframe\n",
    "'''\n",
    "df.drop_duplicates(subset=['sex'],keep='first',inplace=True)"
   ]
  },
  {
   "cell_type": "code",
   "execution_count": 40,
   "metadata": {},
   "outputs": [
    {
     "data": {
      "text/html": [
       "<div>\n",
       "<style>\n",
       "    .dataframe thead tr:only-child th {\n",
       "        text-align: right;\n",
       "    }\n",
       "\n",
       "    .dataframe thead th {\n",
       "        text-align: left;\n",
       "    }\n",
       "\n",
       "    .dataframe tbody tr th {\n",
       "        vertical-align: top;\n",
       "    }\n",
       "</style>\n",
       "<table border=\"1\" class=\"dataframe\">\n",
       "  <thead>\n",
       "    <tr style=\"text-align: right;\">\n",
       "      <th></th>\n",
       "      <th>sex</th>\n",
       "      <th>tip</th>\n",
       "      <th>total_bill</th>\n",
       "    </tr>\n",
       "  </thead>\n",
       "  <tbody>\n",
       "    <tr>\n",
       "      <th>0</th>\n",
       "      <td>Female</td>\n",
       "      <td>1.01</td>\n",
       "      <td>16.99</td>\n",
       "    </tr>\n",
       "    <tr>\n",
       "      <th>1</th>\n",
       "      <td>Male</td>\n",
       "      <td>1.66</td>\n",
       "      <td>10.34</td>\n",
       "    </tr>\n",
       "  </tbody>\n",
       "</table>\n",
       "</div>"
      ],
      "text/plain": [
       "      sex   tip  total_bill\n",
       "0  Female  1.01       16.99\n",
       "1    Male  1.66       10.34"
      ]
     },
     "execution_count": 40,
     "metadata": {},
     "output_type": "execute_result"
    }
   ],
   "source": [
    "df"
   ]
  },
  {
   "cell_type": "code",
   "execution_count": 42,
   "metadata": {},
   "outputs": [
    {
     "data": {
      "text/html": [
       "<div>\n",
       "<style>\n",
       "    .dataframe thead tr:only-child th {\n",
       "        text-align: right;\n",
       "    }\n",
       "\n",
       "    .dataframe thead th {\n",
       "        text-align: left;\n",
       "    }\n",
       "\n",
       "    .dataframe tbody tr th {\n",
       "        vertical-align: top;\n",
       "    }\n",
       "</style>\n",
       "<table border=\"1\" class=\"dataframe\">\n",
       "  <thead>\n",
       "    <tr style=\"text-align: right;\">\n",
       "      <th></th>\n",
       "      <th>sex</th>\n",
       "      <th>tip</th>\n",
       "      <th>total_bill</th>\n",
       "    </tr>\n",
       "  </thead>\n",
       "  <tbody>\n",
       "    <tr>\n",
       "      <th>0</th>\n",
       "      <td>Female</td>\n",
       "      <td>1.01</td>\n",
       "      <td>16.99</td>\n",
       "    </tr>\n",
       "    <tr>\n",
       "      <th>1</th>\n",
       "      <td>Male</td>\n",
       "      <td>1.66</td>\n",
       "      <td>10.34</td>\n",
       "    </tr>\n",
       "    <tr>\n",
       "      <th>2</th>\n",
       "      <td>Male</td>\n",
       "      <td>3.50</td>\n",
       "      <td>23.68</td>\n",
       "    </tr>\n",
       "    <tr>\n",
       "      <th>3</th>\n",
       "      <td>Male</td>\n",
       "      <td>3.31</td>\n",
       "      <td>23.68</td>\n",
       "    </tr>\n",
       "    <tr>\n",
       "      <th>4</th>\n",
       "      <td>Female</td>\n",
       "      <td>3.61</td>\n",
       "      <td>24.59</td>\n",
       "    </tr>\n",
       "  </tbody>\n",
       "</table>\n",
       "</div>"
      ],
      "text/plain": [
       "      sex   tip  total_bill\n",
       "0  Female  1.01       16.99\n",
       "1    Male  1.66       10.34\n",
       "2    Male  3.50       23.68\n",
       "3    Male  3.31       23.68\n",
       "4  Female  3.61       24.59"
      ]
     },
     "execution_count": 42,
     "metadata": {},
     "output_type": "execute_result"
    }
   ],
   "source": [
    "df"
   ]
  },
  {
   "cell_type": "code",
   "execution_count": 43,
   "metadata": {},
   "outputs": [
    {
     "name": "stdout",
     "output_type": "stream",
     "text": [
      "sex\n",
      "Female    2\n",
      "Male      3\n",
      "dtype: int64\n"
     ]
    }
   ],
   "source": [
    "'''\n",
    "group一般会配合合计函数（Aggregate functions）使用，\n",
    "比如：count、avg等。Pandas对合计函数的支持有限，有count和size函数实现SQL的count：\n",
    "'''\n",
    "print(df.groupby('sex').size())"
   ]
  },
  {
   "cell_type": "code",
   "execution_count": 44,
   "metadata": {},
   "outputs": [
    {
     "name": "stdout",
     "output_type": "stream",
     "text": [
      "        tip  total_bill\n",
      "sex                    \n",
      "Female    2           2\n",
      "Male      3           3\n"
     ]
    }
   ],
   "source": [
    "print(df.groupby('sex').count())"
   ]
  },
  {
   "cell_type": "code",
   "execution_count": 45,
   "metadata": {},
   "outputs": [
    {
     "name": "stdout",
     "output_type": "stream",
     "text": [
      "sex\n",
      "Female    2\n",
      "Male      3\n",
      "Name: tip, dtype: int64\n"
     ]
    }
   ],
   "source": [
    "print(df.groupby('sex')['tip'].count())"
   ]
  },
  {
   "cell_type": "code",
   "execution_count": 46,
   "metadata": {},
   "outputs": [
    {
     "name": "stdout",
     "output_type": "stream",
     "text": [
      "sex\n",
      "Female    2\n",
      "Male      3\n",
      "Name: tip, dtype: int64\n"
     ]
    }
   ],
   "source": [
    "print(df.groupby('sex')['tip'].size())"
   ]
  },
  {
   "cell_type": "code",
   "execution_count": 47,
   "metadata": {},
   "outputs": [
    {
     "name": "stdout",
     "output_type": "stream",
     "text": [
      "         tip  total_bill\n",
      "sex                     \n",
      "Female  3.61       41.58\n",
      "Male    3.50       57.70\n"
     ]
    }
   ],
   "source": [
    "#对于多合计函数，\n",
    "'''\n",
    "select sex, max(tip), sum(total_bill) as total\n",
    "from tips_tb\n",
    "group by sex;\n",
    "'''\n",
    "#实现在agg()中指定dict：\n",
    "print(df.groupby('sex').agg({'tip':np.max,'total_bill':np.sum}))\n"
   ]
  },
  {
   "cell_type": "code",
   "execution_count": 48,
   "metadata": {},
   "outputs": [
    {
     "name": "stdout",
     "output_type": "stream",
     "text": [
      "      sex\n",
      "tip      \n",
      "1.01    1\n",
      "1.66    1\n",
      "3.31    1\n",
      "3.50    1\n",
      "3.61    1\n"
     ]
    }
   ],
   "source": [
    "# count(distinct **)\n",
    "print(df.groupby('tip').agg({'sex':pd.Series.nunique}))\n"
   ]
  },
  {
   "cell_type": "code",
   "execution_count": 49,
   "metadata": {},
   "outputs": [
    {
     "name": "stdout",
     "output_type": "stream",
     "text": [
      "      xes   pit  total\n",
      "0  Female  1.01  16.99\n",
      "1    Male  1.66  10.34\n",
      "2    Male  3.50  23.68\n",
      "3    Male  3.31  23.68\n",
      "4  Female  3.61  24.59\n"
     ]
    }
   ],
   "source": [
    "#SQL中使用as修改列的别名，Pandas也支持这种修改：\n",
    "df1=df.rename(columns={'total_bill': 'total', 'tip': 'pit', 'sex': 'xes'}, inplace=False)\n",
    "print(df1)"
   ]
  },
  {
   "cell_type": "code",
   "execution_count": 51,
   "metadata": {},
   "outputs": [],
   "source": [
    "#Pandas中join的实现也有两种：\n",
    "#df3 = pd.merge(df1,df2,how='inner',on='门店Id')"
   ]
  },
  {
   "cell_type": "code",
   "execution_count": 53,
   "metadata": {},
   "outputs": [
    {
     "name": "stdout",
     "output_type": "stream",
     "text": [
      "      sex   tip  total_bill\n",
      "4  Female  3.61       24.59\n",
      "3    Male  3.31       23.68\n",
      "2    Male  3.50       23.68\n",
      "0  Female  1.01       16.99\n",
      "1    Male  1.66       10.34\n"
     ]
    }
   ],
   "source": [
    "#Pandas中支持多列order，并可以调整不同列的升序/降序，有更高的排序自由度：\n",
    "print(df.sort_values(['total_bill','tip'],ascending=[False,True]))"
   ]
  },
  {
   "cell_type": "code",
   "execution_count": 66,
   "metadata": {
    "scrolled": true
   },
   "outputs": [
    {
     "name": "stdout",
     "output_type": "stream",
     "text": [
      "      sex   tip  total_bill\n",
      "4  Female  3.61       24.59\n",
      "2    Male  3.50       23.68\n",
      "3    Male  3.31       23.68\n"
     ]
    }
   ],
   "source": [
    "#对于全局的top：\n",
    "print(df.nlargest(3,columns=['total_bill']))"
   ]
  },
  {
   "cell_type": "code",
   "execution_count": 11,
   "metadata": {},
   "outputs": [],
   "source": [
    "import pytesseract\n",
    "from PIL import Image"
   ]
  },
  {
   "cell_type": "code",
   "execution_count": 13,
   "metadata": {},
   "outputs": [
    {
     "ename": "TesseractError",
     "evalue": "(1, 'Error opening data file \\\\Program Files (x86)\\\\Tesseract-OCR\\\\tessdata/chi_sim.traineddata')",
     "output_type": "error",
     "traceback": [
      "\u001b[1;31m---------------------------------------------------------------------------\u001b[0m",
      "\u001b[1;31mTesseractError\u001b[0m                            Traceback (most recent call last)",
      "\u001b[1;32m<ipython-input-13-adae695ab9f7>\u001b[0m in \u001b[0;36m<module>\u001b[1;34m()\u001b[0m\n\u001b[0;32m      1\u001b[0m \u001b[1;31m#C:\\Program Files (x86)\\Tesseract-OCR\\tesseract.exe\u001b[0m\u001b[1;33m\u001b[0m\u001b[1;33m\u001b[0m\u001b[0m\n\u001b[0;32m      2\u001b[0m \u001b[1;31m#pytesseract.pytesseract.tesseract_cmd = r'C:\\Program Files (x86)\\Tesseract-OCR\\tesseract.exe'\u001b[0m\u001b[1;33m\u001b[0m\u001b[1;33m\u001b[0m\u001b[0m\n\u001b[1;32m----> 3\u001b[1;33m \u001b[0mprint\u001b[0m\u001b[1;33m(\u001b[0m\u001b[0mpytesseract\u001b[0m\u001b[1;33m.\u001b[0m\u001b[0mimage_to_string\u001b[0m\u001b[1;33m(\u001b[0m\u001b[0mImage\u001b[0m\u001b[1;33m.\u001b[0m\u001b[0mopen\u001b[0m\u001b[1;33m(\u001b[0m\u001b[1;34m'cc.jpg'\u001b[0m\u001b[1;33m)\u001b[0m\u001b[1;33m,\u001b[0m\u001b[0mlang\u001b[0m\u001b[1;33m=\u001b[0m\u001b[1;34m'chi_sim'\u001b[0m\u001b[1;33m)\u001b[0m\u001b[1;33m)\u001b[0m\u001b[1;33m\u001b[0m\u001b[0m\n\u001b[0m",
      "\u001b[1;32md:\\python\\python36\\lib\\site-packages\\pytesseract\\pytesseract.py\u001b[0m in \u001b[0;36mimage_to_string\u001b[1;34m(image, lang, boxes, config)\u001b[0m\n\u001b[0;32m    123\u001b[0m         \u001b[1;32mif\u001b[0m \u001b[0mstatus\u001b[0m\u001b[1;33m:\u001b[0m\u001b[1;33m\u001b[0m\u001b[0m\n\u001b[0;32m    124\u001b[0m             \u001b[0merrors\u001b[0m \u001b[1;33m=\u001b[0m \u001b[0mget_errors\u001b[0m\u001b[1;33m(\u001b[0m\u001b[0merror_string\u001b[0m\u001b[1;33m)\u001b[0m\u001b[1;33m\u001b[0m\u001b[0m\n\u001b[1;32m--> 125\u001b[1;33m             \u001b[1;32mraise\u001b[0m \u001b[0mTesseractError\u001b[0m\u001b[1;33m(\u001b[0m\u001b[0mstatus\u001b[0m\u001b[1;33m,\u001b[0m \u001b[0merrors\u001b[0m\u001b[1;33m)\u001b[0m\u001b[1;33m\u001b[0m\u001b[0m\n\u001b[0m\u001b[0;32m    126\u001b[0m         \u001b[0mf\u001b[0m \u001b[1;33m=\u001b[0m \u001b[0mopen\u001b[0m\u001b[1;33m(\u001b[0m\u001b[0moutput_file_name\u001b[0m\u001b[1;33m,\u001b[0m \u001b[1;34m'rb'\u001b[0m\u001b[1;33m)\u001b[0m\u001b[1;33m\u001b[0m\u001b[0m\n\u001b[0;32m    127\u001b[0m         \u001b[1;32mtry\u001b[0m\u001b[1;33m:\u001b[0m\u001b[1;33m\u001b[0m\u001b[0m\n",
      "\u001b[1;31mTesseractError\u001b[0m: (1, 'Error opening data file \\\\Program Files (x86)\\\\Tesseract-OCR\\\\tessdata/chi_sim.traineddata')"
     ]
    }
   ],
   "source": [
    "#C:\\Program Files (x86)\\Tesseract-OCR\\tesseract.exe\n",
    "#pytesseract.pytesseract.tesseract_cmd = r'C:\\Program Files (x86)\\Tesseract-OCR\\tesseract.exe'\n",
    "print(pytesseract.image_to_string(Image.open('cc.jpg'),lang='chi_sim'))"
   ]
  },
  {
   "cell_type": "code",
   "execution_count": null,
   "metadata": {},
   "outputs": [],
   "source": []
  },
  {
   "cell_type": "code",
   "execution_count": null,
   "metadata": {},
   "outputs": [],
   "source": []
  }
 ],
 "metadata": {
  "kernelspec": {
   "display_name": "Python 3",
   "language": "python",
   "name": "python3"
  },
  "language_info": {
   "codemirror_mode": {
    "name": "ipython",
    "version": 3
   },
   "file_extension": ".py",
   "mimetype": "text/x-python",
   "name": "python",
   "nbconvert_exporter": "python",
   "pygments_lexer": "ipython3",
   "version": "3.6.2"
  }
 },
 "nbformat": 4,
 "nbformat_minor": 2
}
