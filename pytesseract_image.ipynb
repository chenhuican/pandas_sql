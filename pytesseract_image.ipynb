{
 "cells": [
  {
   "cell_type": "code",
   "execution_count": 1,
   "metadata": {},
   "outputs": [
    {
     "name": "stdout",
     "output_type": "stream",
     "text": [
      "风急天高猿啸衷′ 渚麦冒妄少白鸟飞凰\n",
      "无边落木萧萧下′\n",
      "万里悲秋常作害′ 百年多病独登台″\n",
      "艰难苦恨寰霜鬓′ 滢倒新停澍酉木不=\n"
     ]
    }
   ],
   "source": [
    "#图片文字识别\n",
    "import pytesseract\n",
    "from PIL import Image\n",
    "print(pytesseract.image_to_string(Image.open('cc.jpg'),lang='chi_sim'))"
   ]
  },
  {
   "cell_type": "code",
   "execution_count": null,
   "metadata": {},
   "outputs": [],
   "source": []
  }
 ],
 "metadata": {
  "kernelspec": {
   "display_name": "Python 3",
   "language": "python",
   "name": "python3"
  },
  "language_info": {
   "codemirror_mode": {
    "name": "ipython",
    "version": 3
   },
   "file_extension": ".py",
   "mimetype": "text/x-python",
   "name": "python",
   "nbconvert_exporter": "python",
   "pygments_lexer": "ipython3",
   "version": "3.6.2"
  }
 },
 "nbformat": 4,
 "nbformat_minor": 2
}
