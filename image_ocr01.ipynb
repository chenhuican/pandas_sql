{
 "cells": [
  {
   "cell_type": "code",
   "execution_count": 58,
   "metadata": {},
   "outputs": [
    {
     "name": "stdout",
     "output_type": "stream",
     "text": [
      "RGB\n",
      "255 255 255\n",
      "fig?\n",
      "fig?\n"
     ]
    }
   ],
   "source": [
    "#-*- coding:utf8 -*-\n",
    "from PIL import Image\n",
    "import pytesseract\n",
    "#import tesseract\n",
    "from pyocr import tesseract\n",
    "\n",
    "im =Image.open('bb.png')\n",
    "\n",
    "'''\n",
    "#PIL中有九种不同模式。分别为1，L，P，RGB，RGBA，CMYK，YCbCr，I，F''\n",
    "Convert()函数有三种形式的定义，它们定义形式如下：\n",
    "im.convert(mode) ⇒ image\n",
    "im.convert(“P”, **options) ⇒ image\n",
    "im.convert(mode, matrix) ⇒ image\n",
    "参考网址：http://blog.csdn.net/icamera0/article/details/50843172\n",
    "\n",
    "'''\n",
    "#(将图片转换为8位像素模式)\n",
    "#im.convert(\"P\")\n",
    "#print(im.histogram())\n",
    "print(im.mode)\n",
    "##图片转换为灰色图像\n",
    "im = im.convert('L')\n",
    "\n",
    "pixdata = im.load()\n",
    "\n",
    "rgb_im = im.convert('RGB')\n",
    "r, g, b = rgb_im.getpixel((1, 1))\n",
    "print(r, g, b)\n",
    "\n",
    "'''\n",
    "for y in range(im.size[1]):\n",
    "    for x in range(im.size[0]):\n",
    "        if pixdata[x,y][0]>170 and pixdata[x,y][1]>170 and pixdata[x,y][2]>170 and pixdata[x,y][3]>170:\n",
    "            pixdata[x,y]=(255, 255, 255, 0)\n",
    "        else:\n",
    "            pixdata[x,y]=(0, 0, 0, 0)\n",
    "        \n",
    "im.save('a1.jpg')\n",
    "'''\n",
    "#im.show()\n",
    "tesseract.image_to_string(im)\n",
    "codes = tesseract.image_to_string(im)\n",
    "print(pytesseract.image_to_string(im))\n",
    "print(codes)"
   ]
  },
  {
   "cell_type": "code",
   "execution_count": 41,
   "metadata": {},
   "outputs": [
    {
     "name": "stdout",
     "output_type": "stream",
     "text": [
      "255 2615\n",
      "254 149\n",
      "62 121\n",
      "253 82\n",
      "252 57\n",
      "250 45\n",
      "248 40\n",
      "251 36\n",
      "249 32\n",
      "237 28\n"
     ]
    }
   ],
   "source": [
    "his = im.histogram()\n",
    "values = {}\n",
    "for i in range(256):\n",
    "    values[i] = his[i]\n",
    "\n",
    "for j,k in sorted(values.items(),key=lambda x:x[1],reverse=True)[:10]:\n",
    "    print(j,k)"
   ]
  },
  {
   "cell_type": "code",
   "execution_count": 49,
   "metadata": {},
   "outputs": [],
   "source": [
    "im2 = Image.new(\"P\",im.size,255)\n",
    "\n",
    "for x in range(im.size[1]):\n",
    "    for y in range(im.size[0]):\n",
    "        pix = im.getpixel((y,x))\n",
    "        if pix == 250 or pix == 252:\n",
    "            im2.putpixel((y,x),0)\n",
    "im2.show()"
   ]
  },
  {
   "cell_type": "code",
   "execution_count": 50,
   "metadata": {},
   "outputs": [
    {
     "name": "stdout",
     "output_type": "stream",
     "text": [
      "\n"
     ]
    }
   ],
   "source": [
    "print(pytesseract.image_to_string(im2))"
   ]
  },
  {
   "cell_type": "code",
   "execution_count": 125,
   "metadata": {},
   "outputs": [],
   "source": [
    "from PIL import Image,ImageDraw\n",
    "from PIL import ImageEnhance\n",
    "from PIL import ImageFilter\n",
    "import sys\n",
    "import re\n",
    "from pytesseract import *\n"
   ]
  },
  {
   "cell_type": "code",
   "execution_count": 161,
   "metadata": {},
   "outputs": [
    {
     "name": "stdout",
     "output_type": "stream",
     "text": [
      "5438\n"
     ]
    },
    {
     "data": {
      "text/plain": [
       "'5438'"
      ]
     },
     "execution_count": 161,
     "metadata": {},
     "output_type": "execute_result"
    }
   ],
   "source": [
    "#灰度转二值\n",
    "threshold  =  125\n",
    "table = []\n",
    "for i in range(256):\n",
    "    if i< threshold:\n",
    "        table.append(0)\n",
    "    else:\n",
    "        table.append(1)\n",
    "#矫正误识别为字母\n",
    "rep={\n",
    "    'O':'0',\n",
    "    'I':'1',\n",
    "    'L':'1',\n",
    "    'Z':'2',\n",
    "    'S':'5',\n",
    "    '€':'8'\n",
    "}\n",
    "\n",
    "def getverify(name):\n",
    "    try:\n",
    "        ims = Image.open(name)\n",
    "        ims.load()\n",
    "        imgry = ims.convert('L')\n",
    "        imgry.save('g_'+name)\n",
    "        out = imgry.point(table,'1')\n",
    "        #out = imgry.point(lambda x: 0 if x < 1 else 255, '1')\n",
    "        out.save('b_'+name)\n",
    "        text = image_to_string(out,lang='eng',config=\"-psm 7\").replace(' ','')\n",
    "        text = re.sub(\"\\W\", \"\", text)\n",
    "        text = text.strip()\n",
    "        text = text.upper()\n",
    "        for r in rep:\n",
    "             text = text.replace(r,rep[r])\n",
    "    except (Exception) as e:\n",
    "        print(e)\n",
    "    print(text)\n",
    "    return text\n",
    "getverify('p2.png')\n"
   ]
  },
  {
   "cell_type": "code",
   "execution_count": 152,
   "metadata": {},
   "outputs": [
    {
     "name": "stdout",
     "output_type": "stream",
     "text": [
      "€323\n"
     ]
    }
   ],
   "source": [
    "print(pytesseract.image_to_string(Image.open('p_01.png'),config=\"-psm 7\"))"
   ]
  },
  {
   "cell_type": "code",
   "execution_count": null,
   "metadata": {},
   "outputs": [],
   "source": []
  },
  {
   "cell_type": "code",
   "execution_count": null,
   "metadata": {},
   "outputs": [],
   "source": []
  }
 ],
 "metadata": {
  "kernelspec": {
   "display_name": "Python 3",
   "language": "python",
   "name": "python3"
  },
  "language_info": {
   "codemirror_mode": {
    "name": "ipython",
    "version": 3
   },
   "file_extension": ".py",
   "mimetype": "text/x-python",
   "name": "python",
   "nbconvert_exporter": "python",
   "pygments_lexer": "ipython3",
   "version": "3.6.2"
  }
 },
 "nbformat": 4,
 "nbformat_minor": 2
}
