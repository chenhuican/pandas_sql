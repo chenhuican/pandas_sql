{
 "cells": [
  {
   "cell_type": "code",
   "execution_count": 15,
   "metadata": {},
   "outputs": [
    {
     "name": "stdout",
     "output_type": "stream",
     "text": [
      "RGB\n",
      "\n"
     ]
    }
   ],
   "source": [
    "#-*- coding:utf8 -*-\n",
    "from PIL import Image\n",
    "import pytesseract\n",
    "from pyocr import tesseract\n",
    "im =Image.open('bb.png')\n",
    "\n",
    "'''\n",
    "#PIL中有九种不同模式。分别为1，L，P，RGB，RGBA，CMYK，YCbCr，I，F''\n",
    "Convert()函数有三种形式的定义，它们定义形式如下：\n",
    "im.convert(mode) ⇒ image\n",
    "im.convert(“P”, **options) ⇒ image\n",
    "im.convert(mode, matrix) ⇒ image\n",
    "参考网址：http://blog.csdn.net/icamera0/article/details/50843172\n",
    "\n",
    "'''\n",
    "#(将图片转换为8位像素模式)\n",
    "#im.convert(\"P\")\n",
    "#print(im.histogram())\n",
    "print(im.mode)\n",
    "##图片转换为灰色图像\n",
    "im = im.convert('L')\n",
    "#im = im.convert(\"RGBA\")\n",
    "pixdata = im.load()\n",
    "'''\n",
    "for y in range(im.size[1]):\n",
    "    for x in range(im.size[0]):\n",
    "        if pixdata[x,y][0]>170 and pixdata[x,y][1]>170 and pixdata[x,y][2]>170 and pixdata[x,y][3]>170:\n",
    "            pixdata[x,y]=(255, 255, 255, 0)\n",
    "        else:\n",
    "            pixdata[x,y]=(0, 0, 0, 0)\n",
    "        \n",
    "im.save('a1.jpg')\n",
    "'''\n",
    "#im.show()\n",
    "#tesseract.image_to_string(im)\n",
    "codes = tesseract.image_to_string(im)\n",
    "print(codes)"
   ]
  },
  {
   "cell_type": "code",
   "execution_count": 4,
   "metadata": {},
   "outputs": [
    {
     "name": "stdout",
     "output_type": "stream",
     "text": [
      "255 4418\n",
      "254 223\n",
      "240 140\n",
      "185 130\n",
      "253 114\n",
      "252 61\n",
      "249 38\n",
      "250 38\n",
      "251 38\n",
      "248 34\n"
     ]
    }
   ],
   "source": [
    "his = im.histogram()\n",
    "values = {}\n",
    "for i in range(256):\n",
    "    values[i] = his[i]\n",
    "\n",
    "for j,k in sorted(values.items(),key=lambda x:x[1],reverse=True)[:10]:\n",
    "    print(j,k)"
   ]
  },
  {
   "cell_type": "code",
   "execution_count": 7,
   "metadata": {},
   "outputs": [],
   "source": [
    "im2 = Image.new(\"P\",im.size,255)\n",
    "\n",
    "for x in range(im.size[1]):\n",
    "    for y in range(im.size[0]):\n",
    "        pix = im.getpixel((y,x))\n",
    "        if pix == 240 or pix == 252:\n",
    "            im2.putpixel((y,x),0)\n",
    "im2.show()"
   ]
  },
  {
   "cell_type": "code",
   "execution_count": 8,
   "metadata": {},
   "outputs": [],
   "source": []
  },
  {
   "cell_type": "code",
   "execution_count": null,
   "metadata": {},
   "outputs": [],
   "source": []
  }
 ],
 "metadata": {
  "kernelspec": {
   "display_name": "Python 3",
   "language": "python",
   "name": "python3"
  },
  "language_info": {
   "codemirror_mode": {
    "name": "ipython",
    "version": 3
   },
   "file_extension": ".py",
   "mimetype": "text/x-python",
   "name": "python",
   "nbconvert_exporter": "python",
   "pygments_lexer": "ipython3",
   "version": "3.6.2"
  }
 },
 "nbformat": 4,
 "nbformat_minor": 2
}
