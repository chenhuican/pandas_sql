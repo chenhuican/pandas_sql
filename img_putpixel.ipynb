{
 "cells": [
  {
   "cell_type": "code",
   "execution_count": 75,
   "metadata": {},
   "outputs": [
    {
     "name": "stdout",
     "output_type": "stream",
     "text": [
      "120 40\n",
      "text2.png saved...\n",
      "text2.png saved...\n",
      "text3.png saved...\n",
      "text2.png saved...\n",
      "text2.png saved...\n",
      "text3.png saved...\n",
      "File is saved!\n"
     ]
    },
    {
     "data": {
      "text/plain": [
       "'E:\\\\pythonshell\\\\test_02.png'"
      ]
     },
     "execution_count": 75,
     "metadata": {},
     "output_type": "execute_result"
    }
   ],
   "source": [
    "from PIL import Image,ImageDraw\n",
    "from PIL import ImageEnhance\n",
    "from PIL import ImageFilter\n",
    "import sys\n",
    "import os\n",
    "import re\n",
    "from pytesseract import *\n",
    "'''\n",
    "   图片验证码识别\n",
    "'''\n",
    "def img_putpixel(filename):\n",
    "    data = Image.open(filename)\n",
    "    w,h = data.size\n",
    "    #图像二值化\n",
    "    enhancer = ImageEnhance.Contrast(data)\n",
    "    data = enhancer.enhance(1.8)\n",
    "    data = data.convert('1')\n",
    "    #im.load()\n",
    "    #data = im.getdata()\n",
    "    print(w,h)\n",
    "    try:\n",
    "        for x in range(1,w-1):\n",
    "            if x > 1 and x != w-2:\n",
    "                #获取目标像素点左右位置\n",
    "                left = x - 1\n",
    "                right = x + 1\n",
    "            for y in range(1,h-1):\n",
    "                #获取目标像素点上下位置\n",
    "                up = y - 1\n",
    "                down = y + 1\n",
    "                \n",
    "                if x <= 2 or x >= (w - 2):\n",
    "                    data.putpixel((x,y),255)\n",
    "                    #print('image %s is processing...'%filename)\n",
    "                elif y <= 2 or y >= (h - 2):\n",
    "                    data.putpixel((x,y),255)\n",
    "                    #print('image2 %s is processing...'%filename)\n",
    "                elif data.getpixel((x,y)) == 0:\n",
    "                    if y > 1 and y != h-1:\n",
    "                        #以目标像素点为中心点，获取周围像素点颜色\n",
    "                        #0为黑色，255为白色\n",
    "                        up_color = data.getpixel((x,up))\n",
    "                        down_color = data.getpixel((x,down))\n",
    "                        left_color = data.getpixel((left,y))\n",
    "                        left_down_color = data.getpixel((left,down))\n",
    "                        right_color = data.getpixel((right,y))\n",
    "                        right_up_color = data.getpixel((right,up))\n",
    "                        right_down_color = data.getpixel((right,down))\n",
    "                        #去除竖线干扰线\n",
    "                        if down_color == 0:\n",
    "                            if left_color == 255 and left_down_color == 255 and right_color == 255 and right_down_color == 255:\n",
    "                                data.putpixel((x,y),255)\n",
    "                                data.save(\"text2.png\",\"png\")\n",
    "                                print('text2.png saved...')\n",
    "                        #去除横线干扰线\n",
    "                        elif right_color == 0:\n",
    "                            if down_color == 255 and right_down_color == 255 and up_color == 255 and right_up_color == 255:\n",
    "                                data.putpixel((x,y),255)\n",
    "                                data.save(\"text3.png\",\"png\")\n",
    "                                print('text3.png saved...')\n",
    "                        #去除斜线干扰线\n",
    "                        elif left_color == 255 and right_color == 255 and up_color == 255 and down_color == 255:\n",
    "                            data.putpixel((x,y),255)\n",
    "                else:\n",
    "                    data.putpixel((x,y),255)\n",
    "                #保存去除干扰线后的图片\n",
    "                #data.load()\n",
    "        data.save(\"test_02.png\",\"png\")\n",
    "        print('File is saved!')\n",
    "    except (Exception) as e:\n",
    "        print(e)\n",
    "        return False\n",
    "    return os.path.abspath('test_02.png')\n",
    "img_putpixel('p3.png')"
   ]
  },
  {
   "cell_type": "code",
   "execution_count": 70,
   "metadata": {},
   "outputs": [
    {
     "name": "stdout",
     "output_type": "stream",
     "text": [
      "{£56\n"
     ]
    }
   ],
   "source": [
    "print(pytesseract.image_to_string(Image.open('test_02.png'),config=\"-psm 7\"))"
   ]
  },
  {
   "cell_type": "code",
   "execution_count": 82,
   "metadata": {},
   "outputs": [
    {
     "name": "stdout",
     "output_type": "stream",
     "text": [
      "120 40\n",
      "text2.png saved...\n",
      "text2.png saved...\n",
      "text3.png saved...\n",
      "text2.png saved...\n",
      "text2.png saved...\n",
      "text3.png saved...\n",
      "File is saved!\n",
      "test_02.png\n",
      "8856\n"
     ]
    },
    {
     "data": {
      "text/plain": [
       "'8856'"
      ]
     },
     "execution_count": 82,
     "metadata": {},
     "output_type": "execute_result"
    }
   ],
   "source": [
    "def getverify(name):\n",
    "    #灰度转二值\n",
    "    threshold  =  100\n",
    "    table = []\n",
    "    for i in range(256):\n",
    "        if i< threshold:\n",
    "            table.append(0)\n",
    "        else:\n",
    "            table.append(1)\n",
    "    #矫正误识别为字母\n",
    "    rep = { 'O':'0',\n",
    "             'I':'1',\n",
    "             'L':'1',\n",
    "             'Z':'2',\n",
    "             'S':'8',\n",
    "             'Q':'0',\n",
    "            '}':'7',\n",
    "            '*':'',\n",
    "            'E':'6',\n",
    "            ']':'0',\n",
    "            '`':'',\n",
    "            'B':'8',\n",
    "            '\\\\':'',\n",
    "             ' ':'',\n",
    "            'S':'5',\n",
    "            '€':'8',\n",
    "             'X':'',\n",
    "             '{':'8',\n",
    "             '£':'8'\n",
    "            }\n",
    "    try:\n",
    "        ims = Image.open(name)\n",
    "        ims.load()\n",
    "        imgry = ims.convert('L')\n",
    "        imgry.save('g_'+name)\n",
    "        out = imgry.point(table,'1')\n",
    "        out.save('b_'+name)\n",
    "        text = image_to_string(ims,lang='eng',config=\"-psm 7\").replace(' ','') \n",
    "        text = text.strip()\n",
    "        text = text.upper()\n",
    "        for r in rep:\n",
    "             text = text.replace(r,rep[r])\n",
    "    except (Exception) as e:\n",
    "        print(e)\n",
    "    text = re.sub(\"\\W\", \"\", text)\n",
    "    print(text)\n",
    "    return text\n",
    "files = img_putpixel('p3.png')\n",
    "print(os.path.split(files)[1])\n",
    "getverify(os.path.split(files)[1])"
   ]
  },
  {
   "cell_type": "code",
   "execution_count": 61,
   "metadata": {},
   "outputs": [
    {
     "name": "stdout",
     "output_type": "stream",
     "text": [
      "56\n"
     ]
    }
   ],
   "source": [
    "def draw_img(name):\n",
    "    #去除干扰线\n",
    "    im = Image.open(name)\n",
    "    #图像二值化\n",
    "    #enhancer = ImageEnhance.Contrast(im)\n",
    "    #im = enhancer.enhance(1)\n",
    "    #im = im.convert('L')\n",
    "    #im.load()\n",
    "    data = im.getdata()\n",
    "    w,h = im.size\n",
    "    #im.show()\n",
    "    black_point = 0\n",
    "    for x in range(1,w-1):\n",
    "        for y in range(1,h-1):\n",
    "            mid_pixel = data[w*y+x] #中央像素点像素值\n",
    "            if mid_pixel == 0: #找出上下左右四个方向像素点像素值\n",
    "                top_pixel = data[w*(y-1)+x]\n",
    "                left_pixel = data[w*y+(x-1)]\n",
    "                down_pixel = data[w*(y+1)+x]\n",
    "                right_pixel = data[w*y+(x+1)]\n",
    "                #判断上下左右的黑色像素点总个数\n",
    "                if top_pixel == 0:\n",
    "                    black_point += 1\n",
    "                if left_pixel == 0:\n",
    "                    black_point += 1\n",
    "                if down_pixel == 0:\n",
    "                    black_point += 1\n",
    "                if right_pixel == 0:\n",
    "                    black_point += 1\n",
    "                if black_point <= 3:\n",
    "                    im.putpixel((x,y),255)\n",
    "                    #print('black_point is %s:'%black_point)\n",
    "        black_point = 0\n",
    "    getverify(name)\n",
    "    im.show()\n",
    "draw_img('test_02.png')\n",
    "#print(a)"
   ]
  },
  {
   "cell_type": "code",
   "execution_count": 74,
   "metadata": {},
   "outputs": [
    {
     "name": "stdout",
     "output_type": "stream",
     "text": [
      "E:\\pythonshell\\test_02.png\n"
     ]
    }
   ],
   "source": [
    "print(os.path.abspath('test_02.png'))"
   ]
  },
  {
   "cell_type": "code",
   "execution_count": null,
   "metadata": {},
   "outputs": [],
   "source": []
  }
 ],
 "metadata": {
  "kernelspec": {
   "display_name": "Python 3",
   "language": "python",
   "name": "python3"
  },
  "language_info": {
   "codemirror_mode": {
    "name": "ipython",
    "version": 3
   },
   "file_extension": ".py",
   "mimetype": "text/x-python",
   "name": "python",
   "nbconvert_exporter": "python",
   "pygments_lexer": "ipython3",
   "version": "3.6.2"
  }
 },
 "nbformat": 4,
 "nbformat_minor": 2
}
